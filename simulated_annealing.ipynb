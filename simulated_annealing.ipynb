{
 "cells": [
  {
   "cell_type": "code",
   "execution_count": 1,
   "outputs": [
    {
     "ename": "YAPI_Exception",
     "evalue": "YoctoApi error : No function of that class (yapi:4434)",
     "output_type": "error",
     "traceback": [
      "\u001B[1;31m---------------------------------------------------------------------------\u001B[0m",
      "\u001B[1;31mYAPI_Exception\u001B[0m                            Traceback (most recent call last)",
      "\u001B[1;32m~\\AppData\\Local\\Temp\\ipykernel_3196\\1511465892.py\u001B[0m in \u001B[0;36m<module>\u001B[1;34m\u001B[0m\n\u001B[0;32m     29\u001B[0m             \u001B[0mquery\u001B[0m \u001B[1;33m=\u001B[0m \u001B[0mfile\u001B[0m\u001B[1;33m.\u001B[0m\u001B[0mread\u001B[0m\u001B[1;33m(\u001B[0m\u001B[1;33m)\u001B[0m\u001B[1;33m\u001B[0m\u001B[1;33m\u001B[0m\u001B[0m\n\u001B[0;32m     30\u001B[0m \u001B[1;33m\u001B[0m\u001B[0m\n\u001B[1;32m---> 31\u001B[1;33m             \u001B[0mpsensor\u001B[0m \u001B[1;33m=\u001B[0m \u001B[0mfindPowerSensor\u001B[0m\u001B[1;33m(\u001B[0m\u001B[1;34m\"YWATTMK1-1F6860.power\"\u001B[0m\u001B[1;33m)\u001B[0m\u001B[1;33m\u001B[0m\u001B[1;33m\u001B[0m\u001B[0m\n\u001B[0m\u001B[0;32m     32\u001B[0m             \u001B[0mstopDataRecording\u001B[0m\u001B[1;33m(\u001B[0m\u001B[0mpsensor\u001B[0m\u001B[1;33m)\u001B[0m\u001B[1;33m\u001B[0m\u001B[1;33m\u001B[0m\u001B[0m\n\u001B[0;32m     33\u001B[0m             \u001B[0mclearPowerMeterCache\u001B[0m\u001B[1;33m(\u001B[0m\u001B[0mpsensor\u001B[0m\u001B[1;33m)\u001B[0m\u001B[1;33m\u001B[0m\u001B[1;33m\u001B[0m\u001B[0m\n",
      "\u001B[1;32m~\\Desktop\\projects\\join_order_trad_algorithms\\energy\\energy_functions.py\u001B[0m in \u001B[0;36mfindPowerSensor\u001B[1;34m(power_sensor_identifier)\u001B[0m\n\u001B[0;32m     15\u001B[0m     \u001B[0mpsensor\u001B[0m \u001B[1;33m=\u001B[0m \u001B[0mYPower\u001B[0m\u001B[1;33m.\u001B[0m\u001B[0mFindPower\u001B[0m\u001B[1;33m(\u001B[0m\u001B[0mpower_sensor_identifier\u001B[0m\u001B[1;33m)\u001B[0m\u001B[1;33m;\u001B[0m\u001B[1;33m\u001B[0m\u001B[1;33m\u001B[0m\u001B[0m\n\u001B[0;32m     16\u001B[0m     \u001B[1;32mif\u001B[0m \u001B[1;32mnot\u001B[0m \u001B[0mpsensor\u001B[0m\u001B[1;33m.\u001B[0m\u001B[0misOnline\u001B[0m\u001B[1;33m(\u001B[0m\u001B[1;33m)\u001B[0m\u001B[1;33m:\u001B[0m\u001B[1;33m\u001B[0m\u001B[1;33m\u001B[0m\u001B[0m\n\u001B[1;32m---> 17\u001B[1;33m         \u001B[0mprint\u001B[0m\u001B[1;33m(\u001B[0m\u001B[1;34m\"Power Sensor \"\u001B[0m \u001B[1;33m+\u001B[0m \u001B[0mpsensor\u001B[0m\u001B[1;33m.\u001B[0m\u001B[0mget_hardwareId\u001B[0m\u001B[1;33m(\u001B[0m\u001B[1;33m)\u001B[0m \u001B[1;33m+\u001B[0m \u001B[1;34m\" is not connected (check identification and USB cable)\"\u001B[0m\u001B[1;33m)\u001B[0m\u001B[1;33m\u001B[0m\u001B[1;33m\u001B[0m\u001B[0m\n\u001B[0m\u001B[0;32m     18\u001B[0m         \u001B[1;32mreturn\u001B[0m \u001B[1;32mNone\u001B[0m\u001B[1;33m\u001B[0m\u001B[1;33m\u001B[0m\u001B[0m\n\u001B[0;32m     19\u001B[0m \u001B[1;33m\u001B[0m\u001B[0m\n",
      "\u001B[1;32m~\\.conda\\envs\\rtos_env\\lib\\site-packages\\yoctopuce\\yocto_api.py\u001B[0m in \u001B[0;36mget_hardwareId\u001B[1;34m(self)\u001B[0m\n\u001B[0;32m   5120\u001B[0m         \u001B[0mres\u001B[0m \u001B[1;33m=\u001B[0m \u001B[0mself\u001B[0m\u001B[1;33m.\u001B[0m\u001B[0m_getDescriptor\u001B[0m\u001B[1;33m(\u001B[0m\u001B[0mfundescRef\u001B[0m\u001B[1;33m,\u001B[0m \u001B[0merrmsgRef\u001B[0m\u001B[1;33m)\u001B[0m\u001B[1;33m\u001B[0m\u001B[1;33m\u001B[0m\u001B[0m\n\u001B[0;32m   5121\u001B[0m         \u001B[1;32mif\u001B[0m \u001B[0mYAPI\u001B[0m\u001B[1;33m.\u001B[0m\u001B[0mYISERR\u001B[0m\u001B[1;33m(\u001B[0m\u001B[0mres\u001B[0m\u001B[1;33m)\u001B[0m\u001B[1;33m:\u001B[0m\u001B[1;33m\u001B[0m\u001B[1;33m\u001B[0m\u001B[0m\n\u001B[1;32m-> 5122\u001B[1;33m             \u001B[0mself\u001B[0m\u001B[1;33m.\u001B[0m\u001B[0m_throw\u001B[0m\u001B[1;33m(\u001B[0m\u001B[0mres\u001B[0m\u001B[1;33m,\u001B[0m \u001B[0merrmsgRef\u001B[0m\u001B[1;33m.\u001B[0m\u001B[0mvalue\u001B[0m\u001B[1;33m)\u001B[0m\u001B[1;33m\u001B[0m\u001B[1;33m\u001B[0m\u001B[0m\n\u001B[0m\u001B[0;32m   5123\u001B[0m             \u001B[1;32mreturn\u001B[0m \u001B[0mself\u001B[0m\u001B[1;33m.\u001B[0m\u001B[0mHARDWAREID_INVALID\u001B[0m\u001B[1;33m\u001B[0m\u001B[1;33m\u001B[0m\u001B[0m\n\u001B[0;32m   5124\u001B[0m         \u001B[0mdevdesc\u001B[0m \u001B[1;33m=\u001B[0m \u001B[0mctypes\u001B[0m\u001B[1;33m.\u001B[0m\u001B[0mc_int\u001B[0m\u001B[1;33m(\u001B[0m\u001B[1;33m)\u001B[0m\u001B[1;33m\u001B[0m\u001B[1;33m\u001B[0m\u001B[0m\n",
      "\u001B[1;32m~\\.conda\\envs\\rtos_env\\lib\\site-packages\\yoctopuce\\yocto_api.py\u001B[0m in \u001B[0;36m_throw\u001B[1;34m(self, errType, errorMessage)\u001B[0m\n\u001B[0;32m   4573\u001B[0m         \u001B[0mself\u001B[0m\u001B[1;33m.\u001B[0m\u001B[0m_lastErrorMsg\u001B[0m \u001B[1;33m=\u001B[0m \u001B[0merrorMessage\u001B[0m\u001B[1;33m\u001B[0m\u001B[1;33m\u001B[0m\u001B[0m\n\u001B[0;32m   4574\u001B[0m         \u001B[1;32mif\u001B[0m \u001B[1;32mnot\u001B[0m \u001B[0mYAPI\u001B[0m\u001B[1;33m.\u001B[0m\u001B[0mExceptionsDisabled\u001B[0m\u001B[1;33m:\u001B[0m\u001B[1;33m\u001B[0m\u001B[1;33m\u001B[0m\u001B[0m\n\u001B[1;32m-> 4575\u001B[1;33m             \u001B[1;32mraise\u001B[0m \u001B[0mYAPI\u001B[0m\u001B[1;33m.\u001B[0m\u001B[0mYAPI_Exception\u001B[0m\u001B[1;33m(\u001B[0m\u001B[0merrType\u001B[0m\u001B[1;33m,\u001B[0m \u001B[1;34m\"YoctoApi error : \"\u001B[0m \u001B[1;33m+\u001B[0m \u001B[0merrorMessage\u001B[0m\u001B[1;33m)\u001B[0m\u001B[1;33m\u001B[0m\u001B[1;33m\u001B[0m\u001B[0m\n\u001B[0m\u001B[0;32m   4576\u001B[0m \u001B[1;33m\u001B[0m\u001B[0m\n\u001B[0;32m   4577\u001B[0m     \u001B[1;31m# Method used to resolve our name to our unique function descriptor (may trigger a hub scan)\u001B[0m\u001B[1;33m\u001B[0m\u001B[1;33m\u001B[0m\u001B[1;33m\u001B[0m\u001B[0m\n",
      "\u001B[1;31mYAPI_Exception\u001B[0m: YoctoApi error : No function of that class (yapi:4434)"
     ]
    }
   ],
   "source": [
    "import csv\n",
    "from algos.helper_functions import create_file, get_query_latency\n",
    "from energy.energy_functions import *\n",
    "from algos.SA import simulated_annealing\n",
    "algo_metadata={}\n",
    "solutions = []\n",
    "algo_energy = []\n",
    "solution_energy = []\n",
    "pg_energy = []\n",
    "\n",
    "solution_cost = []\n",
    "pg_cost = []\n",
    "\n",
    "solution_latency = []\n",
    "pg_latency = []\n",
    "\n",
    "# Set the path to the directory containing the files\n",
    "directory_path = \"JOB-queries\"\n",
    "\n",
    "index = 0\n",
    "# Loop over all the files in the directory\n",
    "for filename in os.listdir(directory_path):\n",
    "    index = index + 1\n",
    "    # Check if the file is a file and not a directory\n",
    "    if os.path.isfile(os.path.join(directory_path, filename)) and index < 200:  # and filename in elements:\n",
    "        # Open the file for reading\n",
    "        with open(os.path.join(directory_path, filename), 'r', encoding=\"utf8\") as file:\n",
    "            # Read the contents of the file\n",
    "            query = file.read()\n",
    "            algo_metadata[filename] = []\n",
    "            psensor = findPowerSensor(\"YWATTMK1-1F6860.power\")\n",
    "            stopDataRecording(psensor)\n",
    "            clearPowerMeterCache(psensor)\n",
    "            tm = time.time()\n",
    "            datalog = psensor.get_dataLogger()\n",
    "            datalog.set_timeUTC(time.time())\n",
    "            startDataRecording(psensor)  # Power Meter starts recording power per second\n",
    "            time.sleep(2.0)\n",
    "            print(\"4 - is recording: \", psensor.get_dataLogger().get_recording())\n",
    "            startTime = datetime.fromtimestamp(time.time()).strftime('%Y-%m-%d %H:%M:%S')\n",
    "\n",
    "            #apply the algorithm\n",
    "            solution, cost = simulated_annealing(query, 10, 8, 0.5)\n",
    "            create_file(\"solutions/sa\", filename, solution)\n",
    "\n",
    "            endTime = datetime.fromtimestamp(time.time()).strftime('%Y-%m-%d %H:%M:%S')\n",
    "            # print(\"4-4 - is recording: \", psensor.get_dataLogger().get_recording())\n",
    "            print(\"startTime: \", startTime, \" - endTime: \", endTime)\n",
    "            # YAPI.Sleep(2000)\n",
    "            time.sleep(2.0)\n",
    "            print(\"stop recording : \", datetime.now())\n",
    "            stopDataRecording(psensor)\n",
    "            print(\"7 - is recording: \", psensor.get_dataLogger().get_recording())\n",
    "\n",
    "            (power, exec_time, energy) = getAveragePower(psensor, startTime, endTime)\n",
    "\n",
    "            (query_power, query_exec_time, query_energy) = get_query_exec_energy(input, False)\n",
    "\n",
    "            (query_power, query_exec_time, solution_query_energy) = get_query_exec_energy(solution, True)\n",
    "\n",
    "            # solution_cost.append(cost)\n",
    "            # algo_energy.append(energy)\n",
    "            # solution_energy.append(solution_query_energy)\n",
    "            # pg_energy.append(query_energy)\n",
    "            # solutions.append(solution)\n",
    "            algo_metadata[filename].append(energy)\n",
    "            algo_metadata[filename].append(solution_query_energy)\n",
    "            algo_metadata[filename].append(get_query_latency(solution, True))\n",
    "\n",
    "        # print(\"solution_cost : \", solution_cost)\n",
    "        # print(\"algo_energy :\", algo_energy)\n",
    "        # print(\"solution_energy\", solution_energy)\n",
    "        # print(\"pg_energy\", pg_energy)\n",
    "print(\"saving csv\")\n",
    "# open a CSV file for writing\n",
    "with open('sa_data.csv', 'w', newline='') as csvfile:\n",
    "    writer = csv.writer(csvfile)\n",
    "\n",
    "    # write the header row\n",
    "    writer.writerow(['Filename', 'algo energy', 'Query Energy', 'Latency'])\n",
    "    for filename, data in algo_metadata.items():\n",
    "        writer.writerow([filename, data[0], data[1],data[2]])\n"
   ],
   "metadata": {
    "collapsed": false
   }
  },
  {
   "cell_type": "code",
   "execution_count": null,
   "outputs": [],
   "source": [],
   "metadata": {
    "collapsed": false
   }
  }
 ],
 "metadata": {
  "kernelspec": {
   "display_name": "Python 3",
   "language": "python",
   "name": "python3"
  },
  "language_info": {
   "codemirror_mode": {
    "name": "ipython",
    "version": 3
   },
   "file_extension": ".py",
   "mimetype": "text/x-python",
   "name": "python",
   "nbconvert_exporter": "python",
   "pygments_lexer": "ipython3",
   "version": "3.8.3"
  }
 },
 "nbformat": 4,
 "nbformat_minor": 5
}
