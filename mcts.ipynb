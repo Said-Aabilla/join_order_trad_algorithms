{
 "cells": [
  {
   "cell_type": "code",
   "execution_count": 1,
   "outputs": [
    {
     "name": "stdout",
     "output_type": "stream",
     "text": [
      "----------------------------------------------------------\n",
      "3b\n",
      "-----------------------\n"
     ]
    },
    {
     "ename": "AttributeError",
     "evalue": "'builtin_function_or_method' object has no attribute 'choice'",
     "output_type": "error",
     "traceback": [
      "\u001B[0;31m---------------------------------------------------------------------------\u001B[0m",
      "\u001B[0;31mAttributeError\u001B[0m                            Traceback (most recent call last)",
      "\u001B[0;32m/tmp/ipykernel_23376/967210947.py\u001B[0m in \u001B[0;36m<module>\u001B[0;34m\u001B[0m\n\u001B[1;32m     28\u001B[0m \u001B[0;34m\u001B[0m\u001B[0m\n\u001B[1;32m     29\u001B[0m         \u001B[0mrun_start_time\u001B[0m \u001B[0;34m=\u001B[0m \u001B[0mtime\u001B[0m\u001B[0;34m.\u001B[0m\u001B[0mtime\u001B[0m\u001B[0;34m(\u001B[0m\u001B[0;34m)\u001B[0m\u001B[0;34m\u001B[0m\u001B[0;34m\u001B[0m\u001B[0m\n\u001B[0;32m---> 30\u001B[0;31m         \u001B[0msolution\u001B[0m\u001B[0;34m,\u001B[0m \u001B[0mcost\u001B[0m \u001B[0;34m=\u001B[0m \u001B[0mmcts\u001B[0m\u001B[0;34m(\u001B[0m\u001B[0mquery\u001B[0m\u001B[0;34m,\u001B[0m\u001B[0;36m5\u001B[0m\u001B[0;34m)\u001B[0m\u001B[0;34m\u001B[0m\u001B[0;34m\u001B[0m\u001B[0m\n\u001B[0m\u001B[1;32m     31\u001B[0m         \u001B[0mrun_end_time\u001B[0m \u001B[0;34m=\u001B[0m \u001B[0mtime\u001B[0m\u001B[0;34m.\u001B[0m\u001B[0mtime\u001B[0m\u001B[0;34m(\u001B[0m\u001B[0;34m)\u001B[0m\u001B[0;34m\u001B[0m\u001B[0;34m\u001B[0m\u001B[0m\n\u001B[1;32m     32\u001B[0m         \u001B[0malgo_runtime\u001B[0m\u001B[0;34m.\u001B[0m\u001B[0mappend\u001B[0m\u001B[0;34m(\u001B[0m\u001B[0;34m(\u001B[0m\u001B[0mrun_end_time\u001B[0m \u001B[0;34m-\u001B[0m \u001B[0mrun_start_time\u001B[0m\u001B[0;34m)\u001B[0m \u001B[0;34m*\u001B[0m \u001B[0;36m1000\u001B[0m\u001B[0;34m)\u001B[0m\u001B[0;34m\u001B[0m\u001B[0;34m\u001B[0m\u001B[0m\n",
      "\u001B[0;32m~/Desktop/projects/job_algos/algos/mcts.py\u001B[0m in \u001B[0;36mmcts\u001B[0;34m(query, num_iterations)\u001B[0m\n\u001B[1;32m    220\u001B[0m \u001B[0;34m\u001B[0m\u001B[0m\n\u001B[1;32m    221\u001B[0m         \u001B[0;31m# Simulate phase\u001B[0m\u001B[0;34m\u001B[0m\u001B[0;34m\u001B[0m\u001B[0;34m\u001B[0m\u001B[0m\n\u001B[0;32m--> 222\u001B[0;31m         \u001B[0mreward\u001B[0m \u001B[0;34m=\u001B[0m \u001B[0msimulate\u001B[0m\u001B[0;34m(\u001B[0m\u001B[0mnode\u001B[0m\u001B[0;34m)\u001B[0m\u001B[0;34m\u001B[0m\u001B[0;34m\u001B[0m\u001B[0m\n\u001B[0m\u001B[1;32m    223\u001B[0m         \u001B[0;31m# print(\"after reward phase\", reward)\u001B[0m\u001B[0;34m\u001B[0m\u001B[0;34m\u001B[0m\u001B[0;34m\u001B[0m\u001B[0m\n\u001B[1;32m    224\u001B[0m         \u001B[0mprint\u001B[0m\u001B[0;34m(\u001B[0m\u001B[0;34m\"-----------------------\"\u001B[0m\u001B[0;34m)\u001B[0m\u001B[0;34m\u001B[0m\u001B[0;34m\u001B[0m\u001B[0m\n",
      "\u001B[0;32m~/Desktop/projects/job_algos/algos/mcts.py\u001B[0m in \u001B[0;36msimulate\u001B[0;34m(node)\u001B[0m\n\u001B[1;32m    192\u001B[0m         \u001B[0mcurrent_node\u001B[0m \u001B[0;34m=\u001B[0m \u001B[0mnode\u001B[0m\u001B[0;34m\u001B[0m\u001B[0;34m\u001B[0m\u001B[0m\n\u001B[1;32m    193\u001B[0m         \u001B[0mneighbors\u001B[0m \u001B[0;34m=\u001B[0m \u001B[0mneighborhood\u001B[0m\u001B[0;34m(\u001B[0m\u001B[0mcurrent_node\u001B[0m\u001B[0;34m.\u001B[0m\u001B[0mstate\u001B[0m\u001B[0;34m)\u001B[0m\u001B[0;34m\u001B[0m\u001B[0;34m\u001B[0m\u001B[0m\n\u001B[0;32m--> 194\u001B[0;31m         \u001B[0mrandom_neighbor\u001B[0m \u001B[0;34m=\u001B[0m \u001B[0mrandom\u001B[0m\u001B[0;34m.\u001B[0m\u001B[0mchoice\u001B[0m\u001B[0;34m(\u001B[0m\u001B[0mneighbors\u001B[0m\u001B[0;34m)\u001B[0m\u001B[0;34m\u001B[0m\u001B[0;34m\u001B[0m\u001B[0m\n\u001B[0m\u001B[1;32m    195\u001B[0m         \u001B[0mcurrent_node\u001B[0m \u001B[0;34m=\u001B[0m \u001B[0mNode\u001B[0m\u001B[0;34m(\u001B[0m\u001B[0mrandom_neighbor\u001B[0m\u001B[0;34m)\u001B[0m\u001B[0;34m\u001B[0m\u001B[0;34m\u001B[0m\u001B[0m\n\u001B[1;32m    196\u001B[0m         \u001B[0;31m# print(\"current node state after simulation: \", current_node.state)\u001B[0m\u001B[0;34m\u001B[0m\u001B[0;34m\u001B[0m\u001B[0;34m\u001B[0m\u001B[0m\n",
      "\u001B[0;31mAttributeError\u001B[0m: 'builtin_function_or_method' object has no attribute 'choice'"
     ]
    }
   ],
   "source": [
    "from algos.mcts import mcts_search, mcts\n",
    "from algos.helper_functions import get_query_latency, get_pg_cost, queryParser\n",
    "import time\n",
    "algo_energy = []\n",
    "pg_plan_energy = []\n",
    "\n",
    "solution_energy = []\n",
    "pg_exec_energy = []\n",
    "\n",
    "solution_cost = []\n",
    "pg_cost = []\n",
    "\n",
    "solution_latency = []\n",
    "pg_latency = []\n",
    "\n",
    "algo_runtime = []\n",
    "#Queries ordered by relations num that varies from 4 to 17\n",
    "query_names = ['3b','1a','32a','8a','7a','25a','19a','22a','24a','28a','29b']\n",
    "\n",
    "\n",
    "for query_name in query_names:\n",
    "    print(\"----------------------------------------------------------\")\n",
    "    print(query_name)\n",
    "    with open('/home/said/Desktop/projects/job_algos/JOB-queries/'+ str(query_name) + '.sql', 'r') as file:\n",
    "\n",
    "        query = file.read()\n",
    "\n",
    "\n",
    "        run_start_time = time.time()\n",
    "        solution, cost = mcts(query,5)\n",
    "        run_end_time = time.time()\n",
    "        algo_runtime.append((run_end_time - run_start_time) * 1000)\n",
    "\n",
    "        solution_cost.append(cost)\n",
    "        pg_cost.append(get_pg_cost(query))\n",
    "        solution_latency.append(get_query_latency(solution, True))\n",
    "\n",
    "    print(\"solution_cost : \", solution_cost)\n",
    "    print(\"pg_cost : \", pg_cost)\n",
    "    print(\"solution_latency : \", solution_latency)\n",
    "    print(\"---------------------------------------\")\n",
    "    print(\"algo run time:\", algo_runtime)"
   ],
   "metadata": {
    "collapsed": false
   }
  },
  {
   "cell_type": "markdown",
   "source": [],
   "metadata": {
    "collapsed": false
   },
   "outputs": [
    {
     "name": "stdout",
     "output_type": "stream",
     "text": [
      "startTime:  2023-04-13 08:16:27:787  - endTime:  2023-04-13 08:19:30:080360\n",
      "stop recording :  2023-04-13 08:19:32.082585\n",
      "7 - is recording:  0\n",
      "avg_power :  120.18804347826087\n",
      "Time(s):  182.29336  - AVG Power(w):  120.18804347826087  - Energy(J):  21909.482277478262\n",
      "4 - is recording:  1\n",
      "startTime:  2023-04-13 08:19:34:963  - endTime:  2023-04-13 08:19:40:972882\n",
      "stop recording :  2023-04-13 08:19:42.973254\n",
      "7 - is recording:  0\n",
      "avg_power :  121.85371428571429\n",
      "Time(s):  6.009882  - AVG Power(w):  121.85371428571429  - Energy(J):  732.3264441188572\n"
     ]
    }
   ]
  },
  {
   "cell_type": "code",
   "execution_count": 1,
   "outputs": [
    {
     "name": "stdout",
     "output_type": "stream",
     "text": [
      "----------------------------------------------------------\n",
      "3b\n"
     ]
    },
    {
     "ename": "KeyboardInterrupt",
     "evalue": "",
     "output_type": "error",
     "traceback": [
      "\u001B[0;31m---------------------------------------------------------------------------\u001B[0m",
      "\u001B[0;31mKeyboardInterrupt\u001B[0m                         Traceback (most recent call last)",
      "\u001B[0;32m/tmp/ipykernel_20792/3048929162.py\u001B[0m in \u001B[0;36m<module>\u001B[0;34m\u001B[0m\n\u001B[1;32m     34\u001B[0m         \u001B[0mdatalog\u001B[0m\u001B[0;34m.\u001B[0m\u001B[0mset_timeUTC\u001B[0m\u001B[0;34m(\u001B[0m\u001B[0mtime\u001B[0m\u001B[0;34m.\u001B[0m\u001B[0mtime\u001B[0m\u001B[0;34m(\u001B[0m\u001B[0;34m)\u001B[0m\u001B[0;34m)\u001B[0m\u001B[0;34m\u001B[0m\u001B[0;34m\u001B[0m\u001B[0m\n\u001B[1;32m     35\u001B[0m         \u001B[0mstartDataRecording\u001B[0m\u001B[0;34m(\u001B[0m\u001B[0mpsensor\u001B[0m\u001B[0;34m)\u001B[0m  \u001B[0;31m# Power Meter starts recording power per second\u001B[0m\u001B[0;34m\u001B[0m\u001B[0;34m\u001B[0m\u001B[0m\n\u001B[0;32m---> 36\u001B[0;31m         \u001B[0mtime\u001B[0m\u001B[0;34m.\u001B[0m\u001B[0msleep\u001B[0m\u001B[0;34m(\u001B[0m\u001B[0;36m2.0\u001B[0m\u001B[0;34m)\u001B[0m\u001B[0;34m\u001B[0m\u001B[0;34m\u001B[0m\u001B[0m\n\u001B[0m\u001B[1;32m     37\u001B[0m         \u001B[0mprint\u001B[0m\u001B[0;34m(\u001B[0m\u001B[0;34m\"4 - is recording: \"\u001B[0m\u001B[0;34m,\u001B[0m \u001B[0mpsensor\u001B[0m\u001B[0;34m.\u001B[0m\u001B[0mget_dataLogger\u001B[0m\u001B[0;34m(\u001B[0m\u001B[0;34m)\u001B[0m\u001B[0;34m.\u001B[0m\u001B[0mget_recording\u001B[0m\u001B[0;34m(\u001B[0m\u001B[0;34m)\u001B[0m\u001B[0;34m)\u001B[0m\u001B[0;34m\u001B[0m\u001B[0;34m\u001B[0m\u001B[0m\n\u001B[1;32m     38\u001B[0m         \u001B[0mstartTime\u001B[0m \u001B[0;34m=\u001B[0m \u001B[0mdatetime\u001B[0m\u001B[0;34m.\u001B[0m\u001B[0mfromtimestamp\u001B[0m\u001B[0;34m(\u001B[0m\u001B[0mtime\u001B[0m\u001B[0;34m.\u001B[0m\u001B[0mtime\u001B[0m\u001B[0;34m(\u001B[0m\u001B[0;34m)\u001B[0m\u001B[0;34m)\u001B[0m\u001B[0;34m.\u001B[0m\u001B[0mstrftime\u001B[0m\u001B[0;34m(\u001B[0m\u001B[0;34m'%Y-%m-%d %H:%M:%S:%f'\u001B[0m\u001B[0;34m)\u001B[0m\u001B[0;34m\u001B[0m\u001B[0;34m\u001B[0m\u001B[0m\n",
      "\u001B[0;31mKeyboardInterrupt\u001B[0m: "
     ]
    }
   ],
   "source": [
    "from algos.helper_functions import get_query_latency, create_file\n",
    "from energy.energy_functions import *\n",
    "\n",
    "algo_energy = []\n",
    "pg_plan_energy = []\n",
    "\n",
    "solution_energy = []\n",
    "pg_exec_energy = []\n",
    "\n",
    "solution_cost = []\n",
    "pg_cost = []\n",
    "\n",
    "solution_latency = []\n",
    "pg_latency = []\n",
    "\n",
    "algo_runtime = []\n",
    "\n",
    "\n",
    "#Queries ordered by relations num that varies from 4 to 17\n",
    "query_names = ['3b', '1a', '32a', '8a', '7a', '25a', '19a', '22a', '24a', '28a', '29b']\n",
    "\n",
    "for query_name in query_names:\n",
    "    print(\"----------------------------------------------------------\")\n",
    "    print(query_name)\n",
    "    with open('/home/said/Desktop/projects/job_algos/JOB-queries/' + str(query_name) + '.sql', 'r') as file:\n",
    "        query = file.read()\n",
    "\n",
    "        # ENERGY CODE START\n",
    "        psensor = findPowerSensor(\"YWATTMK1-1F6860.power\")\n",
    "        stopDataRecording(psensor)\n",
    "        clearPowerMeterCache(psensor)\n",
    "        tm = time.time()\n",
    "        datalog = psensor.get_dataLogger()\n",
    "        datalog.set_timeUTC(time.time())\n",
    "        startDataRecording(psensor)  # Power Meter starts recording power per second\n",
    "        time.sleep(2.0)\n",
    "        print(\"4 - is recording: \", psensor.get_dataLogger().get_recording())\n",
    "        startTime = datetime.fromtimestamp(time.time()).strftime('%Y-%m-%d %H:%M:%S:%f')\n",
    "        # ENERGY CODE END\n",
    "\n",
    "        #apply the algorithm\n",
    "        run_start_time = time.time()\n",
    "        solution, cost = mcts(query, 4)\n",
    "        run_end_time = time.time()\n",
    "        algo_runtime.append((run_end_time - run_start_time) * 1000)\n",
    "        solution = solution + \";\"\n",
    "        create_file(\"solutions/mcts\", query_name + '.sql', solution)\n",
    "\n",
    "        # ENERGY CODE START\n",
    "        endTime = datetime.fromtimestamp(time.time()).strftime('%Y-%m-%d %H:%M:%S:%f')\n",
    "        # print(\"4-4 - is recording: \", psensor.get_dataLogger().get_recording())\n",
    "        print(\"startTime: \", startTime, \" - endTime: \", endTime)\n",
    "        # YAPI.Sleep(2000)\n",
    "        time.sleep(2.0)\n",
    "        print(\"stop recording : \", datetime.now())\n",
    "        stopDataRecording(psensor)\n",
    "        print(\"7 - is recording: \", psensor.get_dataLogger().get_recording())\n",
    "\n",
    "        (power, exec_time, energy) = getAveragePower(psensor, startTime, endTime)\n",
    "\n",
    "        (query_power, query_exec_time, input_query_energy) = get_query_exec_energy(query, False)\n",
    "        (query_power, query_exec_time, solution_query_energy) = get_query_exec_energy(solution, True)\n",
    "        (query_power, query_exec_time, plan_query_energy) = get_query_exec_energy(query, False)\n",
    "\n",
    "        algo_energy.append(energy)\n",
    "        pg_plan_energy.append(plan_query_energy)\n",
    "\n",
    "        solution_energy.append(solution_query_energy)\n",
    "        pg_exec_energy.append(input_query_energy)\n",
    "        # ENERGY CODE END\n",
    "\n",
    "        solution_cost.append(cost)\n",
    "        solution_latency.append(get_query_latency(solution, True))\n",
    "\n",
    "    print(\"solution_cost : \", solution_cost)\n",
    "    print(\"solution_latency : \", solution_latency)\n",
    "    print(\"---------------------------------------\")\n",
    "    print(\"algo_energy :\", algo_energy)\n",
    "    print(\"pg_plan_energy :\", pg_plan_energy)\n",
    "    print(\"---------------------------------------\")\n",
    "    print(\"solution_energy\", solution_energy)\n",
    "    print(\"pg_exec_energy\", pg_exec_energy)\n",
    "    print(\"---------------------------------------\")\n",
    "    print(\"algo run time:\", algo_runtime)"
   ],
   "metadata": {
    "collapsed": false
   }
  },
  {
   "cell_type": "code",
   "execution_count": null,
   "outputs": [],
   "source": [],
   "metadata": {
    "collapsed": false
   }
  }
 ],
 "metadata": {
  "kernelspec": {
   "display_name": "Python 3",
   "language": "python",
   "name": "python3"
  },
  "language_info": {
   "codemirror_mode": {
    "name": "ipython",
    "version": 3
   },
   "file_extension": ".py",
   "mimetype": "text/x-python",
   "name": "python",
   "nbconvert_exporter": "python",
   "pygments_lexer": "ipython3",
   "version": "3.8.3"
  }
 },
 "nbformat": 4,
 "nbformat_minor": 5
}
